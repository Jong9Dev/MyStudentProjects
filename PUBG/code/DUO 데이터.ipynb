{
 "cells": [
  {
   "cell_type": "code",
   "execution_count": 1,
   "metadata": {},
   "outputs": [],
   "source": [
    "%run profile\n",
    "from IPython.display import display\n",
    "import matplotlib.pyplot as plt\n",
    "import mglearn\n",
    "from sklearn.model_selection import train_test_split\n",
    "from sklearn.ensemble import RandomForestRegressor\n",
    "from sklearn.model_selection import cross_val_score"
   ]
  },
  {
   "cell_type": "markdown",
   "metadata": {},
   "source": [
    "### DUO 데이터"
   ]
  },
  {
   "cell_type": "code",
   "execution_count": 2,
   "metadata": {},
   "outputs": [],
   "source": [
    "# 데이터 불러오기 및 데이터 추출, 이상치 제거\n",
    "battle = pd.read_csv('train_V2.csv') #4446966행\n",
    "battle = battle[battle['winPlacePerc']>=0] #4446965행, NA제거\n",
    "battle = battle[battle['matchType'].isin(['duo','duo-fpp'])]"
   ]
  },
  {
   "cell_type": "code",
   "execution_count": 3,
   "metadata": {},
   "outputs": [],
   "source": [
    "forest = RandomForestRegressor(n_estimators=5,n_jobs=-1,min_samples_leaf=10, random_state=0) # 시드 고정"
   ]
  },
  {
   "cell_type": "code",
   "execution_count": 4,
   "metadata": {},
   "outputs": [],
   "source": [
    "y = battle['winPlacePerc']"
   ]
  },
  {
   "cell_type": "code",
   "execution_count": null,
   "metadata": {},
   "outputs": [],
   "source": []
  },
  {
   "cell_type": "markdown",
   "metadata": {},
   "source": [
    "#### 기본(예측률에 영향을 끼치지 않는 것들)"
   ]
  },
  {
   "cell_type": "code",
   "execution_count": 5,
   "metadata": {},
   "outputs": [
    {
     "name": "stdout",
     "output_type": "stream",
     "text": [
      "0.9631639222702568\n",
      "0.9437065504430094\n",
      "0.9432859270327238\n",
      "0.9401953602693268\n"
     ]
    }
   ],
   "source": [
    "X = battle.drop(['Id','groupId','matchId','matchType','winPlacePerc'],axis=1)\n",
    "X_train, X_test, y_train, y_test = train_test_split(X, y, random_state=0)\n",
    "forest.fit(X_train, y_train);\n",
    "print(forest.score(X_train, y_train))\n",
    "print(forest.score(X_test, y_test))\n",
    "print(cross_val_score(forest, X_train, y_train).mean())\n",
    "print(cross_val_score(forest, X_test, y_test).mean())"
   ]
  },
  {
   "cell_type": "markdown",
   "metadata": {},
   "source": [
    "#### revives 제거"
   ]
  },
  {
   "cell_type": "code",
   "execution_count": 27,
   "metadata": {},
   "outputs": [
    {
     "name": "stdout",
     "output_type": "stream",
     "text": [
      "0.9631114614303635\n",
      "0.9436629125852223\n",
      "0.9432433227497815\n",
      "0.9401581320782322\n"
     ]
    }
   ],
   "source": [
    "X = battle.drop(['revives','Id','groupId','matchId','matchType','winPlacePerc'],axis=1)\n",
    "X_train, X_test, y_train, y_test = train_test_split(X, y, random_state=0)\n",
    "forest.fit(X_train, y_train);\n",
    "print(forest.score(X_train, y_train))\n",
    "print(forest.score(X_test, y_test))\n",
    "print(cross_val_score(forest, X_train, y_train).mean())\n",
    "print(cross_val_score(forest, X_test, y_test).mean())"
   ]
  },
  {
   "cell_type": "markdown",
   "metadata": {},
   "source": [
    "#### DBNOs 제거"
   ]
  },
  {
   "cell_type": "code",
   "execution_count": 26,
   "metadata": {},
   "outputs": [
    {
     "name": "stdout",
     "output_type": "stream",
     "text": [
      "0.9630646493028404\n",
      "0.9436154813649003\n",
      "0.9432604873605587\n",
      "0.9401638770595339\n"
     ]
    }
   ],
   "source": [
    "X = battle.drop(['DBNOs','revives','Id','groupId','matchId','matchType','winPlacePerc'],axis=1)\n",
    "X_train, X_test, y_train, y_test = train_test_split(X, y, random_state=0)\n",
    "forest.fit(X_train, y_train);\n",
    "print(forest.score(X_train, y_train))\n",
    "print(forest.score(X_test, y_test))\n",
    "print(cross_val_score(forest, X_train, y_train).mean())\n",
    "print(cross_val_score(forest, X_test, y_test).mean())"
   ]
  },
  {
   "cell_type": "markdown",
   "metadata": {},
   "source": [
    "####  maxPlace"
   ]
  },
  {
   "cell_type": "code",
   "execution_count": 11,
   "metadata": {},
   "outputs": [
    {
     "name": "stdout",
     "output_type": "stream",
     "text": [
      "0.9624281463310822\n",
      "0.9430106501547976\n",
      "0.9426141247917258\n",
      "0.9395325171629761\n"
     ]
    }
   ],
   "source": [
    "X = battle.drop(['maxPlace','teamKills','DBNOs','revives','Id','groupId','matchId','matchType','winPlacePerc'],axis=1)\n",
    "X_train, X_test, y_train, y_test = train_test_split(X, y, random_state=0)\n",
    "forest.fit(X_train, y_train);\n",
    "print(forest.score(X_train, y_train))\n",
    "print(forest.score(X_test, y_test))\n",
    "print(cross_val_score(forest, X_train, y_train).mean())\n",
    "print(cross_val_score(forest, X_test, y_test).mean())"
   ]
  },
  {
   "cell_type": "markdown",
   "metadata": {},
   "source": [
    "#### vehicleDestroys"
   ]
  },
  {
   "cell_type": "code",
   "execution_count": 12,
   "metadata": {},
   "outputs": [
    {
     "name": "stdout",
     "output_type": "stream",
     "text": [
      "0.962430304444231\n",
      "0.9430121223737541\n",
      "0.9426125876792701\n",
      "0.9395338420090308\n"
     ]
    }
   ],
   "source": [
    "X = battle.drop(['vehicleDestroys','maxPlace','teamKills','DBNOs','revives','Id','groupId','matchId','matchType','winPlacePerc'],axis=1)\n",
    "X_train, X_test, y_train, y_test = train_test_split(X, y, random_state=0)\n",
    "forest.fit(X_train, y_train);\n",
    "print(forest.score(X_train, y_train))\n",
    "print(forest.score(X_test, y_test))\n",
    "print(cross_val_score(forest, X_train, y_train).mean())\n",
    "print(cross_val_score(forest, X_test, y_test).mean())"
   ]
  },
  {
   "cell_type": "markdown",
   "metadata": {},
   "source": [
    "#### roadKills"
   ]
  },
  {
   "cell_type": "code",
   "execution_count": 13,
   "metadata": {},
   "outputs": [
    {
     "name": "stdout",
     "output_type": "stream",
     "text": [
      "0.9622788345553956\n",
      "0.9430077251094218\n",
      "0.9426363626593895\n",
      "0.9395487412155349\n"
     ]
    }
   ],
   "source": [
    "X = battle.drop(['winPoints','vehicleDestroys','maxPlace','maxPlace','teamKills','DBNOs','revives','Id','groupId','matchId','matchType','winPlacePerc'],axis=1)\n",
    "X_train, X_test, y_train, y_test = train_test_split(X, y, random_state=0)\n",
    "forest.fit(X_train, y_train);\n",
    "print(forest.score(X_train, y_train))\n",
    "print(forest.score(X_test, y_test))\n",
    "print(cross_val_score(forest, X_train, y_train).mean())\n",
    "print(cross_val_score(forest, X_test, y_test).mean())"
   ]
  },
  {
   "cell_type": "markdown",
   "metadata": {},
   "source": [
    "#### assists"
   ]
  },
  {
   "cell_type": "code",
   "execution_count": 14,
   "metadata": {},
   "outputs": [
    {
     "name": "stdout",
     "output_type": "stream",
     "text": [
      "0.9621309896083813\n",
      "0.9429726772830118\n",
      "0.9425431947332731\n",
      "0.9394196101280361\n"
     ]
    }
   ],
   "source": [
    "X = battle.drop(['assists','roadKills','winPoints','vehicleDestroys','maxPlace','maxPlace','teamKills','DBNOs','revives','Id','groupId','matchId','matchType','winPlacePerc'],axis=1)\n",
    "X_train, X_test, y_train, y_test = train_test_split(X, y, random_state=0)\n",
    "forest.fit(X_train, y_train);\n",
    "print(forest.score(X_train, y_train))\n",
    "print(forest.score(X_test, y_test))\n",
    "print(cross_val_score(forest, X_train, y_train).mean())\n",
    "print(cross_val_score(forest, X_test, y_test).mean())"
   ]
  },
  {
   "cell_type": "markdown",
   "metadata": {},
   "source": [
    "#### rankPoints"
   ]
  },
  {
   "cell_type": "code",
   "execution_count": 15,
   "metadata": {},
   "outputs": [
    {
     "name": "stdout",
     "output_type": "stream",
     "text": [
      "0.9617214923186638\n",
      "0.9430756781927954\n",
      "0.9426947258791848\n",
      "0.9396718018919831\n"
     ]
    }
   ],
   "source": [
    "X = battle.drop(['rankPoints','assists','roadKills','winPoints','vehicleDestroys','maxPlace','maxPlace','teamKills','DBNOs','revives','Id','groupId','matchId','matchType','winPlacePerc'],axis=1)\n",
    "X_train, X_test, y_train, y_test = train_test_split(X, y, random_state=0)\n",
    "forest.fit(X_train, y_train);\n",
    "print(forest.score(X_train, y_train))\n",
    "print(forest.score(X_test, y_test))\n",
    "print(cross_val_score(forest, X_train, y_train).mean())\n",
    "print(cross_val_score(forest, X_test, y_test).mean())"
   ]
  },
  {
   "cell_type": "markdown",
   "metadata": {},
   "source": [
    "#### longestKill"
   ]
  },
  {
   "cell_type": "code",
   "execution_count": 16,
   "metadata": {},
   "outputs": [
    {
     "name": "stdout",
     "output_type": "stream",
     "text": [
      "0.9612166056521205\n",
      "0.9432575147736776\n",
      "0.9428927929913405\n",
      "0.9400716993038588\n"
     ]
    }
   ],
   "source": [
    "X = battle.drop(['longestKill','rankPoints','assists','roadKills','winPoints','vehicleDestroys','maxPlace','maxPlace','teamKills','DBNOs','revives','Id','groupId','matchId','matchType','winPlacePerc'],axis=1)\n",
    "X_train, X_test, y_train, y_test = train_test_split(X, y, random_state=0)\n",
    "forest.fit(X_train, y_train);\n",
    "print(forest.score(X_train, y_train))\n",
    "print(forest.score(X_test, y_test))\n",
    "print(cross_val_score(forest, X_train, y_train).mean())\n",
    "print(cross_val_score(forest, X_test, y_test).mean())"
   ]
  },
  {
   "cell_type": "markdown",
   "metadata": {},
   "source": [
    "#### weaponsAcquired"
   ]
  },
  {
   "cell_type": "code",
   "execution_count": 17,
   "metadata": {},
   "outputs": [
    {
     "name": "stdout",
     "output_type": "stream",
     "text": [
      "0.9606481657844945\n",
      "0.942840588952658\n",
      "0.942536803905509\n",
      "0.939890757897683\n"
     ]
    }
   ],
   "source": [
    "X = battle.drop(['weaponsAcquired','longestKill','rankPoints','assists','roadKills','winPoints','vehicleDestroys','maxPlace','maxPlace','teamKills','DBNOs','revives','Id','groupId','matchId','matchType','winPlacePerc'],axis=1)\n",
    "X_train, X_test, y_train, y_test = train_test_split(X, y, random_state=0)\n",
    "forest.fit(X_train, y_train);\n",
    "print(forest.score(X_train, y_train))\n",
    "print(forest.score(X_test, y_test))\n",
    "print(cross_val_score(forest, X_train, y_train).mean())\n",
    "print(cross_val_score(forest, X_test, y_test).mean())"
   ]
  },
  {
   "cell_type": "markdown",
   "metadata": {},
   "source": [
    "#### boosts"
   ]
  },
  {
   "cell_type": "code",
   "execution_count": 20,
   "metadata": {},
   "outputs": [
    {
     "name": "stdout",
     "output_type": "stream",
     "text": [
      "0.960053775001276\n",
      "0.9420920914301717\n",
      "0.9418056876493485\n",
      "0.9392819363708617\n"
     ]
    }
   ],
   "source": [
    "X = battle.drop(['boosts','weaponsAcquired','longestKill','rankPoints','assists','roadKills','winPoints','vehicleDestroys','maxPlace','maxPlace','teamKills','DBNOs','revives','Id','groupId','matchId','matchType','winPlacePerc'],axis=1)\n",
    "X_train, X_test, y_train, y_test = train_test_split(X, y, random_state=0)\n",
    "forest.fit(X_train, y_train);\n",
    "print(forest.score(X_train, y_train))\n",
    "print(forest.score(X_test, y_test))\n",
    "print(cross_val_score(forest, X_train, y_train).mean())\n",
    "print(cross_val_score(forest, X_test, y_test).mean())"
   ]
  },
  {
   "cell_type": "markdown",
   "metadata": {},
   "source": [
    "#### killPoints"
   ]
  },
  {
   "cell_type": "code",
   "execution_count": 19,
   "metadata": {},
   "outputs": [
    {
     "name": "stdout",
     "output_type": "stream",
     "text": [
      "0.959606855451164\n",
      "0.9421082424593693\n",
      "0.9418902925457818\n",
      "0.9393983901815491\n"
     ]
    }
   ],
   "source": [
    "X = battle.drop(['killPoints','boosts','weaponsAcquired','longestKill','rankPoints','assists','roadKills','winPoints','vehicleDestroys','maxPlace','maxPlace','teamKills','DBNOs','revives','Id','groupId','matchId','matchType','winPlacePerc'],axis=1)\n",
    "X_train, X_test, y_train, y_test = train_test_split(X, y, random_state=0)\n",
    "forest.fit(X_train, y_train);\n",
    "print(forest.score(X_train, y_train))\n",
    "print(forest.score(X_test, y_test))\n",
    "print(cross_val_score(forest, X_train, y_train).mean())\n",
    "print(cross_val_score(forest, X_test, y_test).mean())"
   ]
  },
  {
   "cell_type": "markdown",
   "metadata": {},
   "source": [
    "#### damageDealt"
   ]
  },
  {
   "cell_type": "code",
   "execution_count": 18,
   "metadata": {},
   "outputs": [
    {
     "name": "stdout",
     "output_type": "stream",
     "text": [
      "0.9584560318104711\n",
      "0.9422172931892572\n",
      "0.9419633767351036\n",
      "0.939538215482758\n"
     ]
    }
   ],
   "source": [
    "X = battle.drop(['damageDealt','killPoints','boosts','weaponsAcquired','longestKill','rankPoints','assists','roadKills','winPoints','vehicleDestroys','maxPlace','maxPlace','teamKills','DBNOs','revives','Id','groupId','matchId','matchType','winPlacePerc'],axis=1)\n",
    "X_train, X_test, y_train, y_test = train_test_split(X, y, random_state=0)\n",
    "forest.fit(X_train, y_train);\n",
    "print(forest.score(X_train, y_train))\n",
    "print(forest.score(X_test, y_test))\n",
    "print(cross_val_score(forest, X_train, y_train).mean())\n",
    "print(cross_val_score(forest, X_test, y_test).mean())"
   ]
  },
  {
   "cell_type": "markdown",
   "metadata": {},
   "source": [
    "#### headshotKills"
   ]
  },
  {
   "cell_type": "code",
   "execution_count": 21,
   "metadata": {},
   "outputs": [
    {
     "name": "stdout",
     "output_type": "stream",
     "text": [
      "0.9583503043323434\n",
      "0.9422626081798524\n",
      "0.941997117147869\n",
      "0.9395490121007013\n"
     ]
    }
   ],
   "source": [
    "X = battle.drop(['headshotKills','damageDealt','killPoints','boosts','weaponsAcquired','longestKill','rankPoints','assists','roadKills','winPoints','vehicleDestroys','maxPlace','maxPlace','teamKills','DBNOs','revives','Id','groupId','matchId','matchType','winPlacePerc'],axis=1)\n",
    "X_train, X_test, y_train, y_test = train_test_split(X, y, random_state=0)\n",
    "forest.fit(X_train, y_train);\n",
    "print(forest.score(X_train, y_train))\n",
    "print(forest.score(X_test, y_test))\n",
    "print(cross_val_score(forest, X_train, y_train).mean())\n",
    "print(cross_val_score(forest, X_test, y_test).mean())"
   ]
  },
  {
   "cell_type": "markdown",
   "metadata": {},
   "source": [
    "#### heals"
   ]
  },
  {
   "cell_type": "code",
   "execution_count": 22,
   "metadata": {},
   "outputs": [
    {
     "name": "stdout",
     "output_type": "stream",
     "text": [
      "0.957508960303472\n",
      "0.9416136337254932\n",
      "0.9413178635327647\n",
      "0.9391318161770029\n"
     ]
    }
   ],
   "source": [
    "X = battle.drop(['heals','headshotKills','damageDealt','killPoints','boosts','weaponsAcquired','longestKill','rankPoints','assists','roadKills','winPoints','vehicleDestroys','maxPlace','maxPlace','teamKills','DBNOs','revives','Id','groupId','matchId','matchType','winPlacePerc'],axis=1)\n",
    "X_train, X_test, y_train, y_test = train_test_split(X, y, random_state=0)\n",
    "forest.fit(X_train, y_train);\n",
    "print(forest.score(X_train, y_train))\n",
    "print(forest.score(X_test, y_test))\n",
    "print(cross_val_score(forest, X_train, y_train).mean())\n",
    "print(cross_val_score(forest, X_test, y_test).mean())"
   ]
  },
  {
   "cell_type": "markdown",
   "metadata": {},
   "source": [
    "#### killStreaks"
   ]
  },
  {
   "cell_type": "code",
   "execution_count": 23,
   "metadata": {},
   "outputs": [
    {
     "name": "stdout",
     "output_type": "stream",
     "text": [
      "0.9573135276782986\n",
      "0.9414486597193996\n",
      "0.9411013350148135\n",
      "0.9390291710726202\n"
     ]
    }
   ],
   "source": [
    "X = battle.drop(['killStreaks','heals','headshotKills','damageDealt','killPoints','boosts','weaponsAcquired','longestKill','rankPoints','assists','roadKills','winPoints','vehicleDestroys','maxPlace','maxPlace','teamKills','DBNOs','revives','Id','groupId','matchId','matchType','winPlacePerc'],axis=1)\n",
    "X_train, X_test, y_train, y_test = train_test_split(X, y, random_state=0)\n",
    "forest.fit(X_train, y_train);\n",
    "print(forest.score(X_train, y_train))\n",
    "print(forest.score(X_test, y_test))\n",
    "print(cross_val_score(forest, X_train, y_train).mean())\n",
    "print(cross_val_score(forest, X_test, y_test).mean())"
   ]
  },
  {
   "cell_type": "markdown",
   "metadata": {},
   "source": [
    "#### swimDistance"
   ]
  },
  {
   "cell_type": "code",
   "execution_count": 24,
   "metadata": {},
   "outputs": [
    {
     "name": "stdout",
     "output_type": "stream",
     "text": [
      "0.9571822198323885\n",
      "0.94136363731621\n",
      "0.9410381611757344\n",
      "0.9390164216243347\n"
     ]
    }
   ],
   "source": [
    "X = battle.drop(['swimDistance','killStreaks','heals','headshotKills','damageDealt','killPoints','boosts','weaponsAcquired','longestKill','rankPoints','assists','roadKills','winPoints','vehicleDestroys','maxPlace','maxPlace','teamKills','DBNOs','revives','Id','groupId','matchId','matchType','winPlacePerc'],axis=1)\n",
    "X_train, X_test, y_train, y_test = train_test_split(X, y, random_state=0)\n",
    "forest.fit(X_train, y_train);\n",
    "print(forest.score(X_train, y_train))\n",
    "print(forest.score(X_test, y_test))\n",
    "print(cross_val_score(forest, X_train, y_train).mean())\n",
    "print(cross_val_score(forest, X_test, y_test).mean())"
   ]
  },
  {
   "cell_type": "code",
   "execution_count": null,
   "metadata": {},
   "outputs": [],
   "source": []
  },
  {
   "cell_type": "code",
   "execution_count": 25,
   "metadata": {},
   "outputs": [
    {
     "data": {
      "text/plain": [
       "Index(['killPlace', 'kills', 'matchDuration', 'numGroups', 'rideDistance',\n",
       "       'walkDistance'],\n",
       "      dtype='object')"
      ]
     },
     "execution_count": 25,
     "metadata": {},
     "output_type": "execute_result"
    }
   ],
   "source": [
    "X.columns # 남은 컬럼"
   ]
  },
  {
   "cell_type": "code",
   "execution_count": null,
   "metadata": {},
   "outputs": [],
   "source": []
  },
  {
   "cell_type": "code",
   "execution_count": null,
   "metadata": {},
   "outputs": [],
   "source": []
  }
 ],
 "metadata": {
  "kernelspec": {
   "display_name": "Python 3",
   "language": "python",
   "name": "python3"
  },
  "language_info": {
   "codemirror_mode": {
    "name": "ipython",
    "version": 3
   },
   "file_extension": ".py",
   "mimetype": "text/x-python",
   "name": "python",
   "nbconvert_exporter": "python",
   "pygments_lexer": "ipython3",
   "version": "3.7.2"
  }
 },
 "nbformat": 4,
 "nbformat_minor": 2
}
