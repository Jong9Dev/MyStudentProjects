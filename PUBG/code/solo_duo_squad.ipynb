{
 "cells": [
  {
   "cell_type": "code",
   "execution_count": 2,
   "metadata": {},
   "outputs": [],
   "source": [
    "# import-\n",
    "%run profile\n",
    "from sklearn.ensemble import RandomForestRegressor\n",
    "from sklearn.model_selection import train_test_split\n",
    "from sklearn.model_selection import GridSearchCV\n",
    "from sklearn.ensemble import GradientBoostingRegressor\n",
    "import matplotlib.pyplot as plt\n",
    "from sklearn.model_selection import cross_validate\n",
    "from sklearn.model_selection import cross_val_score\n",
    "from sklearn.model_selection import KFold\n",
    "import seaborn as sns\n",
    "from sklearn.metrics import accuracy_score\n",
    "from sklearn.metrics import confusion_matrix\n",
    "\n"
   ]
  },
  {
   "cell_type": "code",
   "execution_count": 4,
   "metadata": {},
   "outputs": [],
   "source": [
    "pubg=pd.read_csv(\"train_V2.csv\")\n",
    "bagr = pubg[pubg['matchType'].isin(['duo','duo-fpp','solo','solo-fpp','squad','squad-fpp'])]\n",
    "bagr=bagr.drop(['matchId','matchType','groupId'],axis=1).set_index('Id')\n",
    "bagr=bagr[bagr['winPlacePerc']>=0]\n",
    "\n",
    "\n",
    "X=bagr.drop(['winPlacePerc'],axis=1)\n",
    "y=bagr.winPlacePerc\n"
   ]
  },
  {
   "cell_type": "code",
   "execution_count": 6,
   "metadata": {
    "scrolled": true
   },
   "outputs": [
    {
     "name": "stdout",
     "output_type": "stream",
     "text": [
      "RandomForestRegressor(bootstrap=True, criterion='mse', max_depth=None,\n",
      "           max_features='auto', max_leaf_nodes=None,\n",
      "           min_impurity_decrease=0.0, min_impurity_split=None,\n",
      "           min_samples_leaf=1, min_samples_split=2,\n",
      "           min_weight_fraction_leaf=0.0, n_estimators=10, n_jobs=-1,\n",
      "           oob_score=False, random_state=None, verbose=0, warm_start=False)\n",
      "0.9862932861778547\n",
      "0.9236785050562408\n"
     ]
    }
   ],
   "source": [
    "# RandomForestRegressor fitting & print score\n",
    "# min_samples_leaf=5,max_features=8\n",
    "rg = RandomForestRegressor(n_jobs=-1)\n",
    "X_train,X_test,y_train,y_test = train_test_split(X,y)\n",
    "print(rg.fit(X_train,y_train))\n",
    "print(rg.score(X_train,y_train))\n",
    "print(rg.score(X_test,y_test))"
   ]
  },
  {
   "cell_type": "code",
   "execution_count": 8,
   "metadata": {
    "scrolled": true
   },
   "outputs": [
    {
     "name": "stdout",
     "output_type": "stream",
     "text": [
      "GridSearchCV(cv=5, error_score='raise',\n",
      "       estimator=RandomForestRegressor(bootstrap=True, criterion='mse', max_depth=None,\n",
      "           max_features='auto', max_leaf_nodes=None,\n",
      "           min_impurity_decrease=0.0, min_impurity_split=None,\n",
      "           min_samples_leaf=10, min_samples_split=2,\n",
      "           min_weight_fraction_leaf=0.0, n_estimators=100, n_jobs=-1,\n",
      "           oob_score=False, random_state=None, verbose=0, warm_start=False),\n",
      "       fit_params=None, iid=True, n_jobs=1,\n",
      "       param_grid=[{'max_features': [3, 5, 8, 10], 'min_samples_leaf': [1, 5, 10]}],\n",
      "       pre_dispatch='2*n_jobs', refit=True, return_train_score='warn',\n",
      "       scoring='neg_mean_squared_error', verbose=0)\n",
      "{'max_features': 8, 'min_samples_leaf': 5}\n",
      "0.07139789574767172 {'max_features': 3, 'min_samples_leaf': 1}\n",
      "0.07192590054438164 {'max_features': 3, 'min_samples_leaf': 5}\n",
      "0.07262316574894209 {'max_features': 3, 'min_samples_leaf': 10}\n",
      "0.07070888186333472 {'max_features': 5, 'min_samples_leaf': 1}\n",
      "0.07074233972710808 {'max_features': 5, 'min_samples_leaf': 5}\n",
      "0.07116074791703113 {'max_features': 5, 'min_samples_leaf': 10}\n",
      "0.07054587030450292 {'max_features': 8, 'min_samples_leaf': 1}\n",
      "0.07041317905782664 {'max_features': 8, 'min_samples_leaf': 5}\n",
      "0.07067146445281745 {'max_features': 8, 'min_samples_leaf': 10}\n",
      "0.07062810130895333 {'max_features': 10, 'min_samples_leaf': 1}\n",
      "0.07044986098751535 {'max_features': 10, 'min_samples_leaf': 5}\n",
      "0.07061010365733293 {'max_features': 10, 'min_samples_leaf': 10}\n"
     ]
    }
   ],
   "source": [
    "# Grid Search fitting & best params \n",
    "\n",
    "param_grid = [{'max_features':[3,5,8,10],'min_samples_leaf':[1,5,10]},]\n",
    "grid_search = GridSearchCV(rg,param_grid,\n",
    "                           cv=5,scoring='neg_mean_squared_error')\n",
    "print(grid_search.fit(X_train,y_train))\n",
    "print(grid_search.best_params_)\n",
    "cvres=grid_search.cv_results_\n",
    "for mean_score, params in zip(cvres['mean_test_score'],cvres['params']):\n",
    "    print(np.sqrt(-mean_score),params)"
   ]
  },
  {
   "cell_type": "code",
   "execution_count": null,
   "metadata": {},
   "outputs": [],
   "source": []
  },
  {
   "cell_type": "code",
   "execution_count": null,
   "metadata": {},
   "outputs": [],
   "source": []
  },
  {
   "cell_type": "code",
   "execution_count": null,
   "metadata": {},
   "outputs": [],
   "source": []
  },
  {
   "cell_type": "code",
   "execution_count": null,
   "metadata": {},
   "outputs": [],
   "source": []
  }
 ],
 "metadata": {
  "kernelspec": {
   "display_name": "Python 3",
   "language": "python",
   "name": "python3"
  },
  "language_info": {
   "codemirror_mode": {
    "name": "ipython",
    "version": 3
   },
   "file_extension": ".py",
   "mimetype": "text/x-python",
   "name": "python",
   "nbconvert_exporter": "python",
   "pygments_lexer": "ipython3",
   "version": "3.6.5"
  }
 },
 "nbformat": 4,
 "nbformat_minor": 2
}
