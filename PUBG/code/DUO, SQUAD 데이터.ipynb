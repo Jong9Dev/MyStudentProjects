{
 "cells": [
  {
   "cell_type": "code",
   "execution_count": 1,
   "metadata": {},
   "outputs": [],
   "source": [
    "%run profile\n",
    "from IPython.display import display\n",
    "import matplotlib.pyplot as plt\n",
    "import mglearn\n",
    "from sklearn.model_selection import train_test_split\n",
    "from sklearn.ensemble import RandomForestRegressor\n",
    "from sklearn.model_selection import cross_val_score"
   ]
  },
  {
   "cell_type": "markdown",
   "metadata": {},
   "source": [
    "### DUO, SQUAD 데이터"
   ]
  },
  {
   "cell_type": "code",
   "execution_count": 2,
   "metadata": {},
   "outputs": [],
   "source": [
    "# 데이터 불러오기 및 데이터 추출, 이상치 제거\n",
    "battle = pd.read_csv('train_V2.csv') #4446966행\n",
    "battle = battle[battle['winPlacePerc']>=0] #4446965행, NA제거\n",
    "battle = battle[battle['matchType'].isin(['duo','duo-fpp','squad','squad-fpp'])]"
   ]
  },
  {
   "cell_type": "code",
   "execution_count": 3,
   "metadata": {},
   "outputs": [],
   "source": [
    "forest = RandomForestRegressor(n_estimators=5,n_jobs=-1,min_samples_leaf=10, random_state=0) # 시드 고정"
   ]
  },
  {
   "cell_type": "code",
   "execution_count": 4,
   "metadata": {},
   "outputs": [],
   "source": [
    "y = battle['winPlacePerc']"
   ]
  },
  {
   "cell_type": "code",
   "execution_count": null,
   "metadata": {},
   "outputs": [],
   "source": []
  },
  {
   "cell_type": "markdown",
   "metadata": {},
   "source": [
    "#### 기본(예측률에 영향을 끼치지 않는 것들)"
   ]
  },
  {
   "cell_type": "code",
   "execution_count": 5,
   "metadata": {},
   "outputs": [
    {
     "name": "stdout",
     "output_type": "stream",
     "text": [
      "0.9485012923118219\n",
      "0.9216137508721206\n",
      "0.9207336837591065\n",
      "0.918207735998868\n"
     ]
    }
   ],
   "source": [
    "X = battle.drop(['Id','groupId','matchId','matchType','winPlacePerc'],axis=1)\n",
    "X_train, X_test, y_train, y_test = train_test_split(X, y, random_state=0)\n",
    "forest.fit(X_train, y_train);\n",
    "print(forest.score(X_train, y_train))\n",
    "print(forest.score(X_test, y_test))\n",
    "print(cross_val_score(forest, X_train, y_train).mean())\n",
    "print(cross_val_score(forest, X_test, y_test).mean())"
   ]
  },
  {
   "cell_type": "markdown",
   "metadata": {},
   "source": [
    "#### revives 제거"
   ]
  },
  {
   "cell_type": "code",
   "execution_count": 6,
   "metadata": {},
   "outputs": [
    {
     "name": "stdout",
     "output_type": "stream",
     "text": [
      "0.9484043422611783\n",
      "0.921569550466713\n",
      "0.9206810028226188\n",
      "0.9181526737781128\n"
     ]
    }
   ],
   "source": [
    "X = battle.drop(['revives','Id','groupId','matchId','matchType','winPlacePerc'],axis=1)\n",
    "X_train, X_test, y_train, y_test = train_test_split(X, y, random_state=0)\n",
    "forest.fit(X_train, y_train);\n",
    "print(forest.score(X_train, y_train))\n",
    "print(forest.score(X_test, y_test))\n",
    "print(cross_val_score(forest, X_train, y_train).mean())\n",
    "print(cross_val_score(forest, X_test, y_test).mean())"
   ]
  },
  {
   "cell_type": "markdown",
   "metadata": {},
   "source": [
    "#### DBNOs 제거"
   ]
  },
  {
   "cell_type": "code",
   "execution_count": 7,
   "metadata": {},
   "outputs": [
    {
     "name": "stdout",
     "output_type": "stream",
     "text": [
      "0.9482718843253938\n",
      "0.921466831354467\n",
      "0.9205970969242218\n",
      "0.9180605442112011\n"
     ]
    }
   ],
   "source": [
    "X = battle.drop(['DBNOs','revives','Id','groupId','matchId','matchType','winPlacePerc'],axis=1)\n",
    "X_train, X_test, y_train, y_test = train_test_split(X, y, random_state=0)\n",
    "forest.fit(X_train, y_train);\n",
    "print(forest.score(X_train, y_train))\n",
    "print(forest.score(X_test, y_test))\n",
    "print(cross_val_score(forest, X_train, y_train).mean())\n",
    "print(cross_val_score(forest, X_test, y_test).mean())"
   ]
  },
  {
   "cell_type": "markdown",
   "metadata": {},
   "source": [
    "####  maxPlace"
   ]
  },
  {
   "cell_type": "code",
   "execution_count": 8,
   "metadata": {},
   "outputs": [
    {
     "name": "stdout",
     "output_type": "stream",
     "text": [
      "0.9476599150919345\n",
      "0.9209309035840679\n",
      "0.9199534995442503\n",
      "0.9175683342281887\n"
     ]
    }
   ],
   "source": [
    "X = battle.drop(['maxPlace','teamKills','DBNOs','revives','Id','groupId','matchId','matchType','winPlacePerc'],axis=1)\n",
    "X_train, X_test, y_train, y_test = train_test_split(X, y, random_state=0)\n",
    "forest.fit(X_train, y_train);\n",
    "print(forest.score(X_train, y_train))\n",
    "print(forest.score(X_test, y_test))\n",
    "print(cross_val_score(forest, X_train, y_train).mean())\n",
    "print(cross_val_score(forest, X_test, y_test).mean())"
   ]
  },
  {
   "cell_type": "markdown",
   "metadata": {},
   "source": [
    "#### vehicleDestroys"
   ]
  },
  {
   "cell_type": "code",
   "execution_count": 9,
   "metadata": {},
   "outputs": [
    {
     "name": "stdout",
     "output_type": "stream",
     "text": [
      "0.9476592000218295\n",
      "0.9209292896952669\n",
      "0.9199537701253767\n",
      "0.9175657586477562\n"
     ]
    }
   ],
   "source": [
    "X = battle.drop(['vehicleDestroys','maxPlace','teamKills','DBNOs','revives','Id','groupId','matchId','matchType','winPlacePerc'],axis=1)\n",
    "X_train, X_test, y_train, y_test = train_test_split(X, y, random_state=0)\n",
    "forest.fit(X_train, y_train);\n",
    "print(forest.score(X_train, y_train))\n",
    "print(forest.score(X_test, y_test))\n",
    "print(cross_val_score(forest, X_train, y_train).mean())\n",
    "print(cross_val_score(forest, X_test, y_test).mean())"
   ]
  },
  {
   "cell_type": "markdown",
   "metadata": {},
   "source": [
    "#### roadKills"
   ]
  },
  {
   "cell_type": "code",
   "execution_count": 10,
   "metadata": {},
   "outputs": [
    {
     "name": "stdout",
     "output_type": "stream",
     "text": [
      "0.9473354117221565\n",
      "0.9208319684536921\n",
      "0.9199110224976682\n",
      "0.9175858858233262\n"
     ]
    }
   ],
   "source": [
    "X = battle.drop(['winPoints','vehicleDestroys','maxPlace','maxPlace','teamKills','DBNOs','revives','Id','groupId','matchId','matchType','winPlacePerc'],axis=1)\n",
    "X_train, X_test, y_train, y_test = train_test_split(X, y, random_state=0)\n",
    "forest.fit(X_train, y_train);\n",
    "print(forest.score(X_train, y_train))\n",
    "print(forest.score(X_test, y_test))\n",
    "print(cross_val_score(forest, X_train, y_train).mean())\n",
    "print(cross_val_score(forest, X_test, y_test).mean())"
   ]
  },
  {
   "cell_type": "markdown",
   "metadata": {},
   "source": [
    "#### assists"
   ]
  },
  {
   "cell_type": "code",
   "execution_count": 11,
   "metadata": {},
   "outputs": [
    {
     "name": "stdout",
     "output_type": "stream",
     "text": [
      "0.9470615841880177\n",
      "0.9205044443864767\n",
      "0.9195832374933891\n",
      "0.9172865744281583\n"
     ]
    }
   ],
   "source": [
    "X = battle.drop(['assists','roadKills','winPoints','vehicleDestroys','maxPlace','maxPlace','teamKills','DBNOs','revives','Id','groupId','matchId','matchType','winPlacePerc'],axis=1)\n",
    "X_train, X_test, y_train, y_test = train_test_split(X, y, random_state=0)\n",
    "forest.fit(X_train, y_train);\n",
    "print(forest.score(X_train, y_train))\n",
    "print(forest.score(X_test, y_test))\n",
    "print(cross_val_score(forest, X_train, y_train).mean())\n",
    "print(cross_val_score(forest, X_test, y_test).mean())"
   ]
  },
  {
   "cell_type": "markdown",
   "metadata": {},
   "source": [
    "#### rankPoints"
   ]
  },
  {
   "cell_type": "code",
   "execution_count": 12,
   "metadata": {},
   "outputs": [
    {
     "name": "stdout",
     "output_type": "stream",
     "text": [
      "0.9462882136169259\n",
      "0.9203674328426842\n",
      "0.9196026626308997\n",
      "0.9174048393728705\n"
     ]
    }
   ],
   "source": [
    "X = battle.drop(['rankPoints','assists','roadKills','winPoints','vehicleDestroys','maxPlace','maxPlace','teamKills','DBNOs','revives','Id','groupId','matchId','matchType','winPlacePerc'],axis=1)\n",
    "X_train, X_test, y_train, y_test = train_test_split(X, y, random_state=0)\n",
    "forest.fit(X_train, y_train);\n",
    "print(forest.score(X_train, y_train))\n",
    "print(forest.score(X_test, y_test))\n",
    "print(cross_val_score(forest, X_train, y_train).mean())\n",
    "print(cross_val_score(forest, X_test, y_test).mean())"
   ]
  },
  {
   "cell_type": "markdown",
   "metadata": {},
   "source": [
    "#### longestKill"
   ]
  },
  {
   "cell_type": "code",
   "execution_count": 13,
   "metadata": {},
   "outputs": [
    {
     "name": "stdout",
     "output_type": "stream",
     "text": [
      "0.9455285052885363\n",
      "0.9205156223824064\n",
      "0.9196844179346834\n",
      "0.9175745567128583\n"
     ]
    }
   ],
   "source": [
    "X = battle.drop(['longestKill','rankPoints','assists','roadKills','winPoints','vehicleDestroys','maxPlace','maxPlace','teamKills','DBNOs','revives','Id','groupId','matchId','matchType','winPlacePerc'],axis=1)\n",
    "X_train, X_test, y_train, y_test = train_test_split(X, y, random_state=0)\n",
    "forest.fit(X_train, y_train);\n",
    "print(forest.score(X_train, y_train))\n",
    "print(forest.score(X_test, y_test))\n",
    "print(cross_val_score(forest, X_train, y_train).mean())\n",
    "print(cross_val_score(forest, X_test, y_test).mean())"
   ]
  },
  {
   "cell_type": "markdown",
   "metadata": {},
   "source": [
    "#### weaponsAcquired"
   ]
  },
  {
   "cell_type": "code",
   "execution_count": 14,
   "metadata": {},
   "outputs": [
    {
     "name": "stdout",
     "output_type": "stream",
     "text": [
      "0.9448737417045624\n",
      "0.9201048806750476\n",
      "0.919362060046288\n",
      "0.9173387649815964\n"
     ]
    }
   ],
   "source": [
    "X = battle.drop(['weaponsAcquired','longestKill','rankPoints','assists','roadKills','winPoints','vehicleDestroys','maxPlace','maxPlace','teamKills','DBNOs','revives','Id','groupId','matchId','matchType','winPlacePerc'],axis=1)\n",
    "X_train, X_test, y_train, y_test = train_test_split(X, y, random_state=0)\n",
    "forest.fit(X_train, y_train);\n",
    "print(forest.score(X_train, y_train))\n",
    "print(forest.score(X_test, y_test))\n",
    "print(cross_val_score(forest, X_train, y_train).mean())\n",
    "print(cross_val_score(forest, X_test, y_test).mean())"
   ]
  },
  {
   "cell_type": "markdown",
   "metadata": {},
   "source": [
    "#### boosts"
   ]
  },
  {
   "cell_type": "code",
   "execution_count": 15,
   "metadata": {},
   "outputs": [
    {
     "name": "stdout",
     "output_type": "stream",
     "text": [
      "0.9442122133133493\n",
      "0.9194244719862714\n",
      "0.9187537584685201\n",
      "0.9170205333055085\n"
     ]
    }
   ],
   "source": [
    "X = battle.drop(['boosts','weaponsAcquired','longestKill','rankPoints','assists','roadKills','winPoints','vehicleDestroys','maxPlace','maxPlace','teamKills','DBNOs','revives','Id','groupId','matchId','matchType','winPlacePerc'],axis=1)\n",
    "X_train, X_test, y_train, y_test = train_test_split(X, y, random_state=0)\n",
    "forest.fit(X_train, y_train);\n",
    "print(forest.score(X_train, y_train))\n",
    "print(forest.score(X_test, y_test))\n",
    "print(cross_val_score(forest, X_train, y_train).mean())\n",
    "print(cross_val_score(forest, X_test, y_test).mean())"
   ]
  },
  {
   "cell_type": "markdown",
   "metadata": {},
   "source": [
    "#### killPoints"
   ]
  },
  {
   "cell_type": "code",
   "execution_count": 16,
   "metadata": {},
   "outputs": [
    {
     "name": "stdout",
     "output_type": "stream",
     "text": [
      "0.9434118338910127\n",
      "0.9192846898111657\n",
      "0.9186665585819888\n",
      "0.9170466649268603\n"
     ]
    }
   ],
   "source": [
    "X = battle.drop(['killPoints','boosts','weaponsAcquired','longestKill','rankPoints','assists','roadKills','winPoints','vehicleDestroys','maxPlace','maxPlace','teamKills','DBNOs','revives','Id','groupId','matchId','matchType','winPlacePerc'],axis=1)\n",
    "X_train, X_test, y_train, y_test = train_test_split(X, y, random_state=0)\n",
    "forest.fit(X_train, y_train);\n",
    "print(forest.score(X_train, y_train))\n",
    "print(forest.score(X_test, y_test))\n",
    "print(cross_val_score(forest, X_train, y_train).mean())\n",
    "print(cross_val_score(forest, X_test, y_test).mean())"
   ]
  },
  {
   "cell_type": "markdown",
   "metadata": {},
   "source": [
    "#### damageDealt"
   ]
  },
  {
   "cell_type": "code",
   "execution_count": 17,
   "metadata": {},
   "outputs": [
    {
     "name": "stdout",
     "output_type": "stream",
     "text": [
      "0.9417491661767624\n",
      "0.9193349455955162\n",
      "0.9187795733708214\n",
      "0.9172606622864881\n"
     ]
    }
   ],
   "source": [
    "X = battle.drop(['damageDealt','killPoints','boosts','weaponsAcquired','longestKill','rankPoints','assists','roadKills','winPoints','vehicleDestroys','maxPlace','maxPlace','teamKills','DBNOs','revives','Id','groupId','matchId','matchType','winPlacePerc'],axis=1)\n",
    "X_train, X_test, y_train, y_test = train_test_split(X, y, random_state=0)\n",
    "forest.fit(X_train, y_train);\n",
    "print(forest.score(X_train, y_train))\n",
    "print(forest.score(X_test, y_test))\n",
    "print(cross_val_score(forest, X_train, y_train).mean())\n",
    "print(cross_val_score(forest, X_test, y_test).mean())"
   ]
  },
  {
   "cell_type": "markdown",
   "metadata": {},
   "source": [
    "#### headshotKills"
   ]
  },
  {
   "cell_type": "code",
   "execution_count": 18,
   "metadata": {},
   "outputs": [
    {
     "name": "stdout",
     "output_type": "stream",
     "text": [
      "0.9415894599521805\n",
      "0.9193528379454118\n",
      "0.9188183848324014\n",
      "0.9173206881167548\n"
     ]
    }
   ],
   "source": [
    "X = battle.drop(['headshotKills','damageDealt','killPoints','boosts','weaponsAcquired','longestKill','rankPoints','assists','roadKills','winPoints','vehicleDestroys','maxPlace','maxPlace','teamKills','DBNOs','revives','Id','groupId','matchId','matchType','winPlacePerc'],axis=1)\n",
    "X_train, X_test, y_train, y_test = train_test_split(X, y, random_state=0)\n",
    "forest.fit(X_train, y_train);\n",
    "print(forest.score(X_train, y_train))\n",
    "print(forest.score(X_test, y_test))\n",
    "print(cross_val_score(forest, X_train, y_train).mean())\n",
    "print(cross_val_score(forest, X_test, y_test).mean())"
   ]
  },
  {
   "cell_type": "markdown",
   "metadata": {},
   "source": [
    "#### heals"
   ]
  },
  {
   "cell_type": "code",
   "execution_count": 19,
   "metadata": {},
   "outputs": [
    {
     "name": "stdout",
     "output_type": "stream",
     "text": [
      "0.9405488583749102\n",
      "0.9186312168303384\n",
      "0.9181079908445843\n",
      "0.9166726798529939\n"
     ]
    }
   ],
   "source": [
    "X = battle.drop(['heals','headshotKills','damageDealt','killPoints','boosts','weaponsAcquired','longestKill','rankPoints','assists','roadKills','winPoints','vehicleDestroys','maxPlace','maxPlace','teamKills','DBNOs','revives','Id','groupId','matchId','matchType','winPlacePerc'],axis=1)\n",
    "X_train, X_test, y_train, y_test = train_test_split(X, y, random_state=0)\n",
    "forest.fit(X_train, y_train);\n",
    "print(forest.score(X_train, y_train))\n",
    "print(forest.score(X_test, y_test))\n",
    "print(cross_val_score(forest, X_train, y_train).mean())\n",
    "print(cross_val_score(forest, X_test, y_test).mean())"
   ]
  },
  {
   "cell_type": "markdown",
   "metadata": {},
   "source": [
    "#### killStreaks"
   ]
  },
  {
   "cell_type": "code",
   "execution_count": 20,
   "metadata": {},
   "outputs": [
    {
     "name": "stdout",
     "output_type": "stream",
     "text": [
      "0.9403233063404903\n",
      "0.918460563648424\n",
      "0.9179112782507759\n",
      "0.9164860610439335\n"
     ]
    }
   ],
   "source": [
    "X = battle.drop(['killStreaks','heals','headshotKills','damageDealt','killPoints','boosts','weaponsAcquired','longestKill','rankPoints','assists','roadKills','winPoints','vehicleDestroys','maxPlace','maxPlace','teamKills','DBNOs','revives','Id','groupId','matchId','matchType','winPlacePerc'],axis=1)\n",
    "X_train, X_test, y_train, y_test = train_test_split(X, y, random_state=0)\n",
    "forest.fit(X_train, y_train);\n",
    "print(forest.score(X_train, y_train))\n",
    "print(forest.score(X_test, y_test))\n",
    "print(cross_val_score(forest, X_train, y_train).mean())\n",
    "print(cross_val_score(forest, X_test, y_test).mean())"
   ]
  },
  {
   "cell_type": "markdown",
   "metadata": {},
   "source": [
    "#### swimDistance"
   ]
  },
  {
   "cell_type": "code",
   "execution_count": 21,
   "metadata": {},
   "outputs": [
    {
     "name": "stdout",
     "output_type": "stream",
     "text": [
      "0.9401771724425342\n",
      "0.9183955621694774\n",
      "0.9178271047634002\n",
      "0.9164815827585144\n"
     ]
    }
   ],
   "source": [
    "X = battle.drop(['swimDistance','killStreaks','heals','headshotKills','damageDealt','killPoints','boosts','weaponsAcquired','longestKill','rankPoints','assists','roadKills','winPoints','vehicleDestroys','maxPlace','maxPlace','teamKills','DBNOs','revives','Id','groupId','matchId','matchType','winPlacePerc'],axis=1)\n",
    "X_train, X_test, y_train, y_test = train_test_split(X, y, random_state=0)\n",
    "forest.fit(X_train, y_train);\n",
    "print(forest.score(X_train, y_train))\n",
    "print(forest.score(X_test, y_test))\n",
    "print(cross_val_score(forest, X_train, y_train).mean())\n",
    "print(cross_val_score(forest, X_test, y_test).mean())"
   ]
  },
  {
   "cell_type": "code",
   "execution_count": null,
   "metadata": {},
   "outputs": [],
   "source": []
  },
  {
   "cell_type": "code",
   "execution_count": 22,
   "metadata": {},
   "outputs": [
    {
     "data": {
      "text/plain": [
       "Index(['killPlace', 'kills', 'matchDuration', 'numGroups', 'rideDistance',\n",
       "       'walkDistance'],\n",
       "      dtype='object')"
      ]
     },
     "execution_count": 22,
     "metadata": {},
     "output_type": "execute_result"
    }
   ],
   "source": [
    "X.columns # 남은 컬럼"
   ]
  },
  {
   "cell_type": "code",
   "execution_count": null,
   "metadata": {},
   "outputs": [],
   "source": []
  },
  {
   "cell_type": "code",
   "execution_count": null,
   "metadata": {},
   "outputs": [],
   "source": []
  }
 ],
 "metadata": {
  "kernelspec": {
   "display_name": "Python 3",
   "language": "python",
   "name": "python3"
  },
  "language_info": {
   "codemirror_mode": {
    "name": "ipython",
    "version": 3
   },
   "file_extension": ".py",
   "mimetype": "text/x-python",
   "name": "python",
   "nbconvert_exporter": "python",
   "pygments_lexer": "ipython3",
   "version": "3.7.2"
  }
 },
 "nbformat": 4,
 "nbformat_minor": 2
}
