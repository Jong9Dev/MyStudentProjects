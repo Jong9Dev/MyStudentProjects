{
 "cells": [
  {
   "cell_type": "code",
   "execution_count": 26,
   "metadata": {},
   "outputs": [],
   "source": [
    "%run profile\n",
    "from IPython.display import display\n",
    "import matplotlib.pyplot as plt\n",
    "import mglearn\n",
    "from sklearn.model_selection import train_test_split\n",
    "from sklearn.ensemble import RandomForestRegressor\n",
    "from sklearn.model_selection import cross_val_score"
   ]
  },
  {
   "cell_type": "markdown",
   "metadata": {},
   "source": [
    "### SOLO 데이터"
   ]
  },
  {
   "cell_type": "markdown",
   "metadata": {},
   "source": [
    "#### 718704의 솔로 데이터 중에서 teamKill이 8194개 존재(자살로 예상)"
   ]
  },
  {
   "cell_type": "code",
   "execution_count": 46,
   "metadata": {
    "scrolled": true
   },
   "outputs": [],
   "source": [
    "# 데이터 불러오기 및 솔로데이터 추출, 이상치 제거\n",
    "battle = pd.read_csv('train_V2.csv') #4446966행\n",
    "battle = battle[battle['winPlacePerc']>=0] #4446965행, NA제거\n",
    "battle = battle[battle['matchType'].isin(['solo','solo-fpp'])]"
   ]
  },
  {
   "cell_type": "code",
   "execution_count": 69,
   "metadata": {},
   "outputs": [],
   "source": [
    "forest = RandomForestRegressor(n_estimators=5,n_jobs=-1,min_samples_leaf=10, random_state=0) # 시드 고정"
   ]
  },
  {
   "cell_type": "code",
   "execution_count": 8,
   "metadata": {},
   "outputs": [],
   "source": [
    "y = battle['winPlacePerc']"
   ]
  },
  {
   "cell_type": "code",
   "execution_count": null,
   "metadata": {},
   "outputs": [],
   "source": []
  },
  {
   "cell_type": "markdown",
   "metadata": {},
   "source": [
    "#### 기본(예측률에 영향을 끼치지 않는 것들)"
   ]
  },
  {
   "cell_type": "code",
   "execution_count": 152,
   "metadata": {},
   "outputs": [
    {
     "name": "stdout",
     "output_type": "stream",
     "text": [
      "0.969273601938021\n",
      "0.9538002073665897\n",
      "0.9535512722307916\n",
      "0.9495697900485841\n"
     ]
    }
   ],
   "source": [
    "X = battle.drop(['Id','groupId','matchId','matchType','winPlacePerc'],axis=1)\n",
    "X_train, X_test, y_train, y_test = train_test_split(X, y, random_state=0)\n",
    "forest.fit(X_train, y_train);\n",
    "print(forest.score(X_train, y_train))\n",
    "print(forest.score(X_test, y_test))\n",
    "print(cross_val_score(forest, X_train, y_train).mean())\n",
    "print(cross_val_score(forest, X_test, y_test).mean())"
   ]
  },
  {
   "cell_type": "markdown",
   "metadata": {},
   "source": [
    "#### revives 제거"
   ]
  },
  {
   "cell_type": "code",
   "execution_count": 153,
   "metadata": {},
   "outputs": [
    {
     "name": "stdout",
     "output_type": "stream",
     "text": [
      "0.9692706586950673\n",
      "0.9538026062669142\n",
      "0.9535504293068943\n",
      "0.9495515216711699\n"
     ]
    }
   ],
   "source": [
    "X = battle.drop(['revives','Id','groupId','matchId','matchType','winPlacePerc'],axis=1)\n",
    "X_train, X_test, y_train, y_test = train_test_split(X, y, random_state=0)\n",
    "forest.fit(X_train, y_train);\n",
    "print(forest.score(X_train, y_train))\n",
    "print(forest.score(X_test, y_test))\n",
    "print(cross_val_score(forest, X_train, y_train).mean())\n",
    "print(cross_val_score(forest, X_test, y_test).mean())"
   ]
  },
  {
   "cell_type": "markdown",
   "metadata": {},
   "source": [
    "#### DBNOs 제거"
   ]
  },
  {
   "cell_type": "code",
   "execution_count": 154,
   "metadata": {},
   "outputs": [
    {
     "name": "stdout",
     "output_type": "stream",
     "text": [
      "0.9692715683398639\n",
      "0.9538027295969184\n",
      "0.9535473097564857\n",
      "0.9495477657392405\n"
     ]
    }
   ],
   "source": [
    "X = battle.drop(['DBNOs','revives','Id','groupId','matchId','matchType','winPlacePerc'],axis=1)\n",
    "X_train, X_test, y_train, y_test = train_test_split(X, y, random_state=0)\n",
    "forest.fit(X_train, y_train);\n",
    "print(forest.score(X_train, y_train))\n",
    "print(forest.score(X_test, y_test))\n",
    "print(cross_val_score(forest, X_train, y_train).mean())\n",
    "print(cross_val_score(forest, X_test, y_test).mean())"
   ]
  },
  {
   "cell_type": "markdown",
   "metadata": {},
   "source": [
    "#### teamKills"
   ]
  },
  {
   "cell_type": "code",
   "execution_count": 155,
   "metadata": {},
   "outputs": [
    {
     "name": "stdout",
     "output_type": "stream",
     "text": [
      "0.9692726614314436\n",
      "0.9537982010451376\n",
      "0.9535476213448653\n",
      "0.9495296425513192\n"
     ]
    }
   ],
   "source": [
    "X = battle.drop(['teamKills','DBNOs','revives','Id','groupId','matchId','matchType','winPlacePerc'],axis=1)\n",
    "X_train, X_test, y_train, y_test = train_test_split(X, y, random_state=0)\n",
    "forest.fit(X_train, y_train);\n",
    "print(forest.score(X_train, y_train))\n",
    "print(forest.score(X_test, y_test))\n",
    "print(cross_val_score(forest, X_train, y_train).mean())\n",
    "print(cross_val_score(forest, X_test, y_test).mean())"
   ]
  },
  {
   "cell_type": "markdown",
   "metadata": {},
   "source": [
    "####  maxPlace"
   ]
  },
  {
   "cell_type": "code",
   "execution_count": 116,
   "metadata": {},
   "outputs": [
    {
     "name": "stdout",
     "output_type": "stream",
     "text": [
      "0.9688737605917163\n",
      "0.9533997412699623\n",
      "0.9531838996443325\n",
      "0.9493462027793192\n"
     ]
    }
   ],
   "source": [
    "X = battle.drop(['maxPlace','teamKills','DBNOs','revives','Id','groupId','matchId','matchType','winPlacePerc'],axis=1)\n",
    "X_train, X_test, y_train, y_test = train_test_split(X, y, random_state=0)\n",
    "forest.fit(X_train, y_train);\n",
    "print(forest.score(X_train, y_train))\n",
    "print(forest.score(X_test, y_test))\n",
    "print(cross_val_score(forest, X_train, y_train).mean())\n",
    "print(cross_val_score(forest, X_test, y_test).mean())"
   ]
  },
  {
   "cell_type": "markdown",
   "metadata": {},
   "source": [
    "#### vehicleDestroys"
   ]
  },
  {
   "cell_type": "code",
   "execution_count": 117,
   "metadata": {},
   "outputs": [
    {
     "name": "stdout",
     "output_type": "stream",
     "text": [
      "0.968871445915331\n",
      "0.9533951859365176\n",
      "0.9531845380522849\n",
      "0.9493130824781925\n"
     ]
    }
   ],
   "source": [
    "X = battle.drop(['vehicleDestroys','maxPlace','teamKills','DBNOs','revives','Id','groupId','matchId','matchType','winPlacePerc'],axis=1)\n",
    "X_train, X_test, y_train, y_test = train_test_split(X, y, random_state=0)\n",
    "forest.fit(X_train, y_train);\n",
    "print(forest.score(X_train, y_train))\n",
    "print(forest.score(X_test, y_test))\n",
    "print(cross_val_score(forest, X_train, y_train).mean())\n",
    "print(cross_val_score(forest, X_test, y_test).mean())"
   ]
  },
  {
   "cell_type": "markdown",
   "metadata": {},
   "source": [
    "#### winPoints"
   ]
  },
  {
   "cell_type": "code",
   "execution_count": 120,
   "metadata": {},
   "outputs": [
    {
     "name": "stdout",
     "output_type": "stream",
     "text": [
      "0.9687097704316565\n",
      "0.9533095519819548\n",
      "0.9531934457435844\n",
      "0.949363678674415\n"
     ]
    }
   ],
   "source": [
    "X = battle.drop(['winPoints','vehicleDestroys','maxPlace','maxPlace','teamKills','DBNOs','revives','Id','groupId','matchId','matchType','winPlacePerc'],axis=1)\n",
    "X_train, X_test, y_train, y_test = train_test_split(X, y, random_state=0)\n",
    "forest.fit(X_train, y_train);\n",
    "print(forest.score(X_train, y_train))\n",
    "print(forest.score(X_test, y_test))\n",
    "print(cross_val_score(forest, X_train, y_train).mean())\n",
    "print(cross_val_score(forest, X_test, y_test).mean())"
   ]
  },
  {
   "cell_type": "markdown",
   "metadata": {},
   "source": [
    "#### roadKills"
   ]
  },
  {
   "cell_type": "code",
   "execution_count": 122,
   "metadata": {},
   "outputs": [
    {
     "name": "stdout",
     "output_type": "stream",
     "text": [
      "0.9687085444014689\n",
      "0.9533015903267348\n",
      "0.9531929897127392\n",
      "0.9493494246306579\n"
     ]
    }
   ],
   "source": [
    "X = battle.drop(['roadKills','winPoints','vehicleDestroys','maxPlace','maxPlace','teamKills','DBNOs','revives','Id','groupId','matchId','matchType','winPlacePerc'],axis=1)\n",
    "X_train, X_test, y_train, y_test = train_test_split(X, y, random_state=0)\n",
    "forest.fit(X_train, y_train);\n",
    "print(forest.score(X_train, y_train))\n",
    "print(forest.score(X_test, y_test))\n",
    "print(cross_val_score(forest, X_train, y_train).mean())\n",
    "print(cross_val_score(forest, X_test, y_test).mean())"
   ]
  },
  {
   "cell_type": "markdown",
   "metadata": {},
   "source": [
    "#### assists"
   ]
  },
  {
   "cell_type": "code",
   "execution_count": 124,
   "metadata": {},
   "outputs": [
    {
     "name": "stdout",
     "output_type": "stream",
     "text": [
      "0.9686969219786337\n",
      "0.9532792648852868\n",
      "0.9531775280608029\n",
      "0.9493452613577372\n"
     ]
    }
   ],
   "source": [
    "X = battle.drop(['assists','roadKills','winPoints','vehicleDestroys','maxPlace','maxPlace','teamKills','DBNOs','revives','Id','groupId','matchId','matchType','winPlacePerc'],axis=1)\n",
    "X_train, X_test, y_train, y_test = train_test_split(X, y, random_state=0)\n",
    "forest.fit(X_train, y_train);\n",
    "print(forest.score(X_train, y_train))\n",
    "print(forest.score(X_test, y_test))\n",
    "print(cross_val_score(forest, X_train, y_train).mean())\n",
    "print(cross_val_score(forest, X_test, y_test).mean())"
   ]
  },
  {
   "cell_type": "markdown",
   "metadata": {},
   "source": [
    "#### rankPoints"
   ]
  },
  {
   "cell_type": "code",
   "execution_count": 126,
   "metadata": {},
   "outputs": [
    {
     "name": "stdout",
     "output_type": "stream",
     "text": [
      "0.9684089368557316\n",
      "0.9532930576154024\n",
      "0.9532671441531585\n",
      "0.9494744105961112\n"
     ]
    }
   ],
   "source": [
    "X = battle.drop(['rankPoints','assists','roadKills','winPoints','vehicleDestroys','maxPlace','maxPlace','teamKills','DBNOs','revives','Id','groupId','matchId','matchType','winPlacePerc'],axis=1)\n",
    "X_train, X_test, y_train, y_test = train_test_split(X, y, random_state=0)\n",
    "forest.fit(X_train, y_train);\n",
    "print(forest.score(X_train, y_train))\n",
    "print(forest.score(X_test, y_test))\n",
    "print(cross_val_score(forest, X_train, y_train).mean())\n",
    "print(cross_val_score(forest, X_test, y_test).mean())"
   ]
  },
  {
   "cell_type": "markdown",
   "metadata": {},
   "source": [
    "#### longestKill"
   ]
  },
  {
   "cell_type": "code",
   "execution_count": 128,
   "metadata": {},
   "outputs": [
    {
     "name": "stdout",
     "output_type": "stream",
     "text": [
      "0.9680610754695457\n",
      "0.9535604894629778\n",
      "0.9534542655231578\n",
      "0.9497535529041535\n"
     ]
    }
   ],
   "source": [
    "X = battle.drop(['longestKill','rankPoints','assists','roadKills','winPoints','vehicleDestroys','maxPlace','maxPlace','teamKills','DBNOs','revives','Id','groupId','matchId','matchType','winPlacePerc'],axis=1)\n",
    "X_train, X_test, y_train, y_test = train_test_split(X, y, random_state=0)\n",
    "forest.fit(X_train, y_train);\n",
    "print(forest.score(X_train, y_train))\n",
    "print(forest.score(X_test, y_test))\n",
    "print(cross_val_score(forest, X_train, y_train).mean())\n",
    "print(cross_val_score(forest, X_test, y_test).mean())"
   ]
  },
  {
   "cell_type": "markdown",
   "metadata": {},
   "source": [
    "#### weaponsAcquired"
   ]
  },
  {
   "cell_type": "code",
   "execution_count": 129,
   "metadata": {},
   "outputs": [
    {
     "name": "stdout",
     "output_type": "stream",
     "text": [
      "0.9673903540425627\n",
      "0.9533567323664957\n",
      "0.9531726117263037\n",
      "0.9496240874184757\n"
     ]
    }
   ],
   "source": [
    "X = battle.drop(['weaponsAcquired','longestKill','rankPoints','assists','roadKills','winPoints','vehicleDestroys','maxPlace','maxPlace','teamKills','DBNOs','revives','Id','groupId','matchId','matchType','winPlacePerc'],axis=1)\n",
    "X_train, X_test, y_train, y_test = train_test_split(X, y, random_state=0)\n",
    "forest.fit(X_train, y_train);\n",
    "print(forest.score(X_train, y_train))\n",
    "print(forest.score(X_test, y_test))\n",
    "print(cross_val_score(forest, X_train, y_train).mean())\n",
    "print(cross_val_score(forest, X_test, y_test).mean())"
   ]
  },
  {
   "cell_type": "markdown",
   "metadata": {},
   "source": [
    "#### boosts"
   ]
  },
  {
   "cell_type": "code",
   "execution_count": 131,
   "metadata": {},
   "outputs": [
    {
     "name": "stdout",
     "output_type": "stream",
     "text": [
      "0.9666378085099079\n",
      "0.9522091264500095\n",
      "0.9523380444091161\n",
      "0.9486166270160368\n"
     ]
    }
   ],
   "source": [
    "X = battle.drop(['boosts','weaponsAcquired','longestKill','rankPoints','assists','roadKills','winPoints','vehicleDestroys','maxPlace','maxPlace','teamKills','DBNOs','revives','Id','groupId','matchId','matchType','winPlacePerc'],axis=1)\n",
    "X_train, X_test, y_train, y_test = train_test_split(X, y, random_state=0)\n",
    "forest.fit(X_train, y_train);\n",
    "print(forest.score(X_train, y_train))\n",
    "print(forest.score(X_test, y_test))\n",
    "print(cross_val_score(forest, X_train, y_train).mean())\n",
    "print(cross_val_score(forest, X_test, y_test).mean())"
   ]
  },
  {
   "cell_type": "markdown",
   "metadata": {},
   "source": [
    "#### killPoints"
   ]
  },
  {
   "cell_type": "code",
   "execution_count": 132,
   "metadata": {},
   "outputs": [
    {
     "name": "stdout",
     "output_type": "stream",
     "text": [
      "0.9663284283100826\n",
      "0.9522404716556514\n",
      "0.9523782719553818\n",
      "0.9486276594614949\n"
     ]
    }
   ],
   "source": [
    "X = battle.drop(['killPoints','boosts','weaponsAcquired','longestKill','rankPoints','assists','roadKills','winPoints','vehicleDestroys','maxPlace','maxPlace','teamKills','DBNOs','revives','Id','groupId','matchId','matchType','winPlacePerc'],axis=1)\n",
    "X_train, X_test, y_train, y_test = train_test_split(X, y, random_state=0)\n",
    "forest.fit(X_train, y_train);\n",
    "print(forest.score(X_train, y_train))\n",
    "print(forest.score(X_test, y_test))\n",
    "print(cross_val_score(forest, X_train, y_train).mean())\n",
    "print(cross_val_score(forest, X_test, y_test).mean())"
   ]
  },
  {
   "cell_type": "markdown",
   "metadata": {},
   "source": [
    "#### damageDealt"
   ]
  },
  {
   "cell_type": "code",
   "execution_count": 135,
   "metadata": {},
   "outputs": [
    {
     "name": "stdout",
     "output_type": "stream",
     "text": [
      "0.9653272031177501\n",
      "0.9526092787774444\n",
      "0.9526295663387421\n",
      "0.9492450092587464\n"
     ]
    }
   ],
   "source": [
    "X = battle.drop(['damageDealt','killPoints','boosts','weaponsAcquired','longestKill','rankPoints','assists','roadKills','winPoints','vehicleDestroys','maxPlace','maxPlace','teamKills','DBNOs','revives','Id','groupId','matchId','matchType','winPlacePerc'],axis=1)\n",
    "X_train, X_test, y_train, y_test = train_test_split(X, y, random_state=0)\n",
    "forest.fit(X_train, y_train);\n",
    "print(forest.score(X_train, y_train))\n",
    "print(forest.score(X_test, y_test))\n",
    "print(cross_val_score(forest, X_train, y_train).mean())\n",
    "print(cross_val_score(forest, X_test, y_test).mean())"
   ]
  },
  {
   "cell_type": "markdown",
   "metadata": {},
   "source": [
    "#### headshotKills"
   ]
  },
  {
   "cell_type": "code",
   "execution_count": 137,
   "metadata": {},
   "outputs": [
    {
     "name": "stdout",
     "output_type": "stream",
     "text": [
      "0.9652411068735611\n",
      "0.952642049603822\n",
      "0.9526258982480109\n",
      "0.9492976898530033\n"
     ]
    }
   ],
   "source": [
    "X = battle.drop(['headshotKills','damageDealt','killPoints','boosts','weaponsAcquired','longestKill','rankPoints','assists','roadKills','winPoints','vehicleDestroys','maxPlace','maxPlace','teamKills','DBNOs','revives','Id','groupId','matchId','matchType','winPlacePerc'],axis=1)\n",
    "X_train, X_test, y_train, y_test = train_test_split(X, y, random_state=0)\n",
    "forest.fit(X_train, y_train);\n",
    "print(forest.score(X_train, y_train))\n",
    "print(forest.score(X_test, y_test))\n",
    "print(cross_val_score(forest, X_train, y_train).mean())\n",
    "print(cross_val_score(forest, X_test, y_test).mean())"
   ]
  },
  {
   "cell_type": "markdown",
   "metadata": {},
   "source": [
    "#### heals"
   ]
  },
  {
   "cell_type": "code",
   "execution_count": 138,
   "metadata": {},
   "outputs": [
    {
     "name": "stdout",
     "output_type": "stream",
     "text": [
      "0.9647011777415767\n",
      "0.9521861765163416\n",
      "0.9523542178812697\n",
      "0.9491640139827072\n"
     ]
    }
   ],
   "source": [
    "X = battle.drop(['heals','headshotKills','damageDealt','killPoints','boosts','weaponsAcquired','longestKill','rankPoints','assists','roadKills','winPoints','vehicleDestroys','maxPlace','maxPlace','teamKills','DBNOs','revives','Id','groupId','matchId','matchType','winPlacePerc'],axis=1)\n",
    "X_train, X_test, y_train, y_test = train_test_split(X, y, random_state=0)\n",
    "forest.fit(X_train, y_train);\n",
    "print(forest.score(X_train, y_train))\n",
    "print(forest.score(X_test, y_test))\n",
    "print(cross_val_score(forest, X_train, y_train).mean())\n",
    "print(cross_val_score(forest, X_test, y_test).mean())"
   ]
  },
  {
   "cell_type": "markdown",
   "metadata": {},
   "source": [
    "#### killStreaks"
   ]
  },
  {
   "cell_type": "code",
   "execution_count": 143,
   "metadata": {},
   "outputs": [
    {
     "name": "stdout",
     "output_type": "stream",
     "text": [
      "0.9645858272631856\n",
      "0.952013895368686\n",
      "0.9521903157110009\n",
      "0.9489764366994003\n"
     ]
    }
   ],
   "source": [
    "X = battle.drop(['killStreaks','heals','headshotKills','damageDealt','killPoints','boosts','weaponsAcquired','longestKill','rankPoints','assists','roadKills','winPoints','vehicleDestroys','maxPlace','maxPlace','teamKills','DBNOs','revives','Id','groupId','matchId','matchType','winPlacePerc'],axis=1)\n",
    "X_train, X_test, y_train, y_test = train_test_split(X, y, random_state=0)\n",
    "forest.fit(X_train, y_train);\n",
    "print(forest.score(X_train, y_train))\n",
    "print(forest.score(X_test, y_test))\n",
    "print(cross_val_score(forest, X_train, y_train).mean())\n",
    "print(cross_val_score(forest, X_test, y_test).mean())"
   ]
  },
  {
   "cell_type": "markdown",
   "metadata": {},
   "source": [
    "#### swimDistance"
   ]
  },
  {
   "cell_type": "code",
   "execution_count": 149,
   "metadata": {},
   "outputs": [
    {
     "name": "stdout",
     "output_type": "stream",
     "text": [
      "0.9644637924325878\n",
      "0.9519848087779457\n",
      "0.9521216302586897\n",
      "0.948965744455864\n"
     ]
    }
   ],
   "source": [
    "X = battle.drop(['swimDistance','killStreaks','heals','headshotKills','damageDealt','killPoints','boosts','weaponsAcquired','longestKill','rankPoints','assists','roadKills','winPoints','vehicleDestroys','maxPlace','maxPlace','teamKills','DBNOs','revives','Id','groupId','matchId','matchType','winPlacePerc'],axis=1)\n",
    "X_train, X_test, y_train, y_test = train_test_split(X, y, random_state=0)\n",
    "forest.fit(X_train, y_train);\n",
    "print(forest.score(X_train, y_train))\n",
    "print(forest.score(X_test, y_test))\n",
    "print(cross_val_score(forest, X_train, y_train).mean())\n",
    "print(cross_val_score(forest, X_test, y_test).mean())"
   ]
  },
  {
   "cell_type": "code",
   "execution_count": null,
   "metadata": {},
   "outputs": [],
   "source": []
  },
  {
   "cell_type": "code",
   "execution_count": 151,
   "metadata": {},
   "outputs": [
    {
     "data": {
      "text/plain": [
       "Index(['killPlace', 'kills', 'matchDuration', 'numGroups', 'rideDistance',\n",
       "       'walkDistance'],\n",
       "      dtype='object')"
      ]
     },
     "execution_count": 151,
     "metadata": {},
     "output_type": "execute_result"
    }
   ],
   "source": [
    "X.columns # 남은 컬럼"
   ]
  },
  {
   "cell_type": "code",
   "execution_count": null,
   "metadata": {},
   "outputs": [],
   "source": []
  },
  {
   "cell_type": "code",
   "execution_count": null,
   "metadata": {},
   "outputs": [],
   "source": []
  },
  {
   "cell_type": "code",
   "execution_count": null,
   "metadata": {},
   "outputs": [],
   "source": []
  },
  {
   "cell_type": "code",
   "execution_count": null,
   "metadata": {},
   "outputs": [],
   "source": []
  },
  {
   "cell_type": "code",
   "execution_count": null,
   "metadata": {},
   "outputs": [],
   "source": []
  },
  {
   "cell_type": "code",
   "execution_count": null,
   "metadata": {},
   "outputs": [],
   "source": []
  },
  {
   "cell_type": "code",
   "execution_count": null,
   "metadata": {},
   "outputs": [],
   "source": []
  },
  {
   "cell_type": "code",
   "execution_count": null,
   "metadata": {},
   "outputs": [],
   "source": []
  },
  {
   "cell_type": "code",
   "execution_count": null,
   "metadata": {},
   "outputs": [],
   "source": []
  },
  {
   "cell_type": "code",
   "execution_count": null,
   "metadata": {},
   "outputs": [],
   "source": []
  },
  {
   "cell_type": "code",
   "execution_count": null,
   "metadata": {},
   "outputs": [],
   "source": []
  },
  {
   "cell_type": "code",
   "execution_count": null,
   "metadata": {},
   "outputs": [],
   "source": []
  },
  {
   "cell_type": "code",
   "execution_count": null,
   "metadata": {},
   "outputs": [],
   "source": []
  },
  {
   "cell_type": "code",
   "execution_count": null,
   "metadata": {},
   "outputs": [],
   "source": []
  },
  {
   "cell_type": "code",
   "execution_count": null,
   "metadata": {},
   "outputs": [],
   "source": []
  }
 ],
 "metadata": {
  "kernelspec": {
   "display_name": "Python 3",
   "language": "python",
   "name": "python3"
  },
  "language_info": {
   "codemirror_mode": {
    "name": "ipython",
    "version": 3
   },
   "file_extension": ".py",
   "mimetype": "text/x-python",
   "name": "python",
   "nbconvert_exporter": "python",
   "pygments_lexer": "ipython3",
   "version": "3.7.2"
  }
 },
 "nbformat": 4,
 "nbformat_minor": 2
}
