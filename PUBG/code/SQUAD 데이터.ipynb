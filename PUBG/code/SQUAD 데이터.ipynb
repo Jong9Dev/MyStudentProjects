{
 "cells": [
  {
   "cell_type": "code",
   "execution_count": 1,
   "metadata": {},
   "outputs": [],
   "source": [
    "%run profile\n",
    "from IPython.display import display\n",
    "import matplotlib.pyplot as plt\n",
    "import mglearn\n",
    "from sklearn.model_selection import train_test_split\n",
    "from sklearn.ensemble import RandomForestRegressor\n",
    "from sklearn.model_selection import cross_val_score"
   ]
  },
  {
   "cell_type": "markdown",
   "metadata": {},
   "source": [
    "### SQUAD 데이터"
   ]
  },
  {
   "cell_type": "code",
   "execution_count": 2,
   "metadata": {},
   "outputs": [],
   "source": [
    "# 데이터 불러오기 및 데이터 추출, 이상치 제거\n",
    "battle = pd.read_csv('train_V2.csv') #4446966행\n",
    "battle = battle[battle['winPlacePerc']>=0] #4446965행, NA제거\n",
    "battle = battle[battle['matchType'].isin(['squad','squad-fpp'])]"
   ]
  },
  {
   "cell_type": "code",
   "execution_count": 4,
   "metadata": {},
   "outputs": [],
   "source": [
    "forest = RandomForestRegressor(n_estimators=5,n_jobs=-1,min_samples_leaf=10, random_state=0) # 시드 고정"
   ]
  },
  {
   "cell_type": "code",
   "execution_count": 5,
   "metadata": {},
   "outputs": [],
   "source": [
    "y = battle['winPlacePerc']"
   ]
  },
  {
   "cell_type": "code",
   "execution_count": null,
   "metadata": {},
   "outputs": [],
   "source": []
  },
  {
   "cell_type": "markdown",
   "metadata": {},
   "source": [
    "#### 기본(예측률에 영향을 끼치지 않는 것들)"
   ]
  },
  {
   "cell_type": "code",
   "execution_count": 6,
   "metadata": {},
   "outputs": [
    {
     "name": "stdout",
     "output_type": "stream",
     "text": [
      "0.9421741711188596\n",
      "0.9117602779097539\n",
      "0.9108863823068593\n",
      "0.9085786627879541\n"
     ]
    }
   ],
   "source": [
    "X = battle.drop(['Id','groupId','matchId','matchType','winPlacePerc'],axis=1)\n",
    "X_train, X_test, y_train, y_test = train_test_split(X, y, random_state=0)\n",
    "forest.fit(X_train, y_train);\n",
    "print(forest.score(X_train, y_train))\n",
    "print(forest.score(X_test, y_test))\n",
    "print(cross_val_score(forest, X_train, y_train).mean())\n",
    "print(cross_val_score(forest, X_test, y_test).mean())"
   ]
  },
  {
   "cell_type": "markdown",
   "metadata": {},
   "source": [
    "#### revives 제거"
   ]
  },
  {
   "cell_type": "code",
   "execution_count": 7,
   "metadata": {},
   "outputs": [
    {
     "name": "stdout",
     "output_type": "stream",
     "text": [
      "0.9420687353986983\n",
      "0.9116960244604629\n",
      "0.9108308404475792\n",
      "0.9085212788545501\n"
     ]
    }
   ],
   "source": [
    "X = battle.drop(['revives','Id','groupId','matchId','matchType','winPlacePerc'],axis=1)\n",
    "X_train, X_test, y_train, y_test = train_test_split(X, y, random_state=0)\n",
    "forest.fit(X_train, y_train);\n",
    "print(forest.score(X_train, y_train))\n",
    "print(forest.score(X_test, y_test))\n",
    "print(cross_val_score(forest, X_train, y_train).mean())\n",
    "print(cross_val_score(forest, X_test, y_test).mean())"
   ]
  },
  {
   "cell_type": "markdown",
   "metadata": {},
   "source": [
    "#### DBNOs 제거"
   ]
  },
  {
   "cell_type": "code",
   "execution_count": 8,
   "metadata": {},
   "outputs": [
    {
     "name": "stdout",
     "output_type": "stream",
     "text": [
      "0.9418850734023643\n",
      "0.9115099047793878\n",
      "0.9107189260433083\n",
      "0.9083841817189553\n"
     ]
    }
   ],
   "source": [
    "X = battle.drop(['DBNOs','revives','Id','groupId','matchId','matchType','winPlacePerc'],axis=1)\n",
    "X_train, X_test, y_train, y_test = train_test_split(X, y, random_state=0)\n",
    "forest.fit(X_train, y_train);\n",
    "print(forest.score(X_train, y_train))\n",
    "print(forest.score(X_test, y_test))\n",
    "print(cross_val_score(forest, X_train, y_train).mean())\n",
    "print(cross_val_score(forest, X_test, y_test).mean())"
   ]
  },
  {
   "cell_type": "markdown",
   "metadata": {},
   "source": [
    "####  maxPlace"
   ]
  },
  {
   "cell_type": "code",
   "execution_count": 9,
   "metadata": {},
   "outputs": [
    {
     "name": "stdout",
     "output_type": "stream",
     "text": [
      "0.9413667500724004\n",
      "0.9111179288682445\n",
      "0.9104363536987282\n",
      "0.9081526131709875\n"
     ]
    }
   ],
   "source": [
    "X = battle.drop(['maxPlace','teamKills','DBNOs','revives','Id','groupId','matchId','matchType','winPlacePerc'],axis=1)\n",
    "X_train, X_test, y_train, y_test = train_test_split(X, y, random_state=0)\n",
    "forest.fit(X_train, y_train);\n",
    "print(forest.score(X_train, y_train))\n",
    "print(forest.score(X_test, y_test))\n",
    "print(cross_val_score(forest, X_train, y_train).mean())\n",
    "print(cross_val_score(forest, X_test, y_test).mean())"
   ]
  },
  {
   "cell_type": "markdown",
   "metadata": {},
   "source": [
    "#### vehicleDestroys"
   ]
  },
  {
   "cell_type": "code",
   "execution_count": 10,
   "metadata": {},
   "outputs": [
    {
     "name": "stdout",
     "output_type": "stream",
     "text": [
      "0.9413667046387983\n",
      "0.9111153907642462\n",
      "0.9104358235268087\n",
      "0.9081504577030906\n"
     ]
    }
   ],
   "source": [
    "X = battle.drop(['vehicleDestroys','maxPlace','teamKills','DBNOs','revives','Id','groupId','matchId','matchType','winPlacePerc'],axis=1)\n",
    "X_train, X_test, y_train, y_test = train_test_split(X, y, random_state=0)\n",
    "forest.fit(X_train, y_train);\n",
    "print(forest.score(X_train, y_train))\n",
    "print(forest.score(X_test, y_test))\n",
    "print(cross_val_score(forest, X_train, y_train).mean())\n",
    "print(cross_val_score(forest, X_test, y_test).mean())"
   ]
  },
  {
   "cell_type": "markdown",
   "metadata": {},
   "source": [
    "#### roadKills"
   ]
  },
  {
   "cell_type": "code",
   "execution_count": 11,
   "metadata": {},
   "outputs": [
    {
     "name": "stdout",
     "output_type": "stream",
     "text": [
      "0.9410048031128296\n",
      "0.911008955589635\n",
      "0.9103359072042481\n",
      "0.9080222684319708\n"
     ]
    }
   ],
   "source": [
    "X = battle.drop(['winPoints','vehicleDestroys','maxPlace','maxPlace','teamKills','DBNOs','revives','Id','groupId','matchId','matchType','winPlacePerc'],axis=1)\n",
    "X_train, X_test, y_train, y_test = train_test_split(X, y, random_state=0)\n",
    "forest.fit(X_train, y_train);\n",
    "print(forest.score(X_train, y_train))\n",
    "print(forest.score(X_test, y_test))\n",
    "print(cross_val_score(forest, X_train, y_train).mean())\n",
    "print(cross_val_score(forest, X_test, y_test).mean())"
   ]
  },
  {
   "cell_type": "markdown",
   "metadata": {},
   "source": [
    "#### assists"
   ]
  },
  {
   "cell_type": "code",
   "execution_count": 12,
   "metadata": {},
   "outputs": [
    {
     "name": "stdout",
     "output_type": "stream",
     "text": [
      "0.9406951374825792\n",
      "0.9106397520855974\n",
      "0.9099646238122553\n",
      "0.9076645963779922\n"
     ]
    }
   ],
   "source": [
    "X = battle.drop(['assists','roadKills','winPoints','vehicleDestroys','maxPlace','maxPlace','teamKills','DBNOs','revives','Id','groupId','matchId','matchType','winPlacePerc'],axis=1)\n",
    "X_train, X_test, y_train, y_test = train_test_split(X, y, random_state=0)\n",
    "forest.fit(X_train, y_train);\n",
    "print(forest.score(X_train, y_train))\n",
    "print(forest.score(X_test, y_test))\n",
    "print(cross_val_score(forest, X_train, y_train).mean())\n",
    "print(cross_val_score(forest, X_test, y_test).mean())"
   ]
  },
  {
   "cell_type": "markdown",
   "metadata": {},
   "source": [
    "#### rankPoints"
   ]
  },
  {
   "cell_type": "code",
   "execution_count": 13,
   "metadata": {},
   "outputs": [
    {
     "name": "stdout",
     "output_type": "stream",
     "text": [
      "0.9397547970604895\n",
      "0.9104530692165196\n",
      "0.9098067155957664\n",
      "0.9077836298307248\n"
     ]
    }
   ],
   "source": [
    "X = battle.drop(['rankPoints','assists','roadKills','winPoints','vehicleDestroys','maxPlace','maxPlace','teamKills','DBNOs','revives','Id','groupId','matchId','matchType','winPlacePerc'],axis=1)\n",
    "X_train, X_test, y_train, y_test = train_test_split(X, y, random_state=0)\n",
    "forest.fit(X_train, y_train);\n",
    "print(forest.score(X_train, y_train))\n",
    "print(forest.score(X_test, y_test))\n",
    "print(cross_val_score(forest, X_train, y_train).mean())\n",
    "print(cross_val_score(forest, X_test, y_test).mean())"
   ]
  },
  {
   "cell_type": "markdown",
   "metadata": {},
   "source": [
    "#### longestKill"
   ]
  },
  {
   "cell_type": "code",
   "execution_count": 14,
   "metadata": {},
   "outputs": [
    {
     "name": "stdout",
     "output_type": "stream",
     "text": [
      "0.9388711895810959\n",
      "0.910416798901315\n",
      "0.9098885483427122\n",
      "0.9078939660013253\n"
     ]
    }
   ],
   "source": [
    "X = battle.drop(['longestKill','rankPoints','assists','roadKills','winPoints','vehicleDestroys','maxPlace','maxPlace','teamKills','DBNOs','revives','Id','groupId','matchId','matchType','winPlacePerc'],axis=1)\n",
    "X_train, X_test, y_train, y_test = train_test_split(X, y, random_state=0)\n",
    "forest.fit(X_train, y_train);\n",
    "print(forest.score(X_train, y_train))\n",
    "print(forest.score(X_test, y_test))\n",
    "print(cross_val_score(forest, X_train, y_train).mean())\n",
    "print(cross_val_score(forest, X_test, y_test).mean())"
   ]
  },
  {
   "cell_type": "markdown",
   "metadata": {},
   "source": [
    "#### weaponsAcquired"
   ]
  },
  {
   "cell_type": "code",
   "execution_count": 15,
   "metadata": {},
   "outputs": [
    {
     "name": "stdout",
     "output_type": "stream",
     "text": [
      "0.9381317998267699\n",
      "0.9100326254751978\n",
      "0.9095324125830917\n",
      "0.9076922077956845\n"
     ]
    }
   ],
   "source": [
    "X = battle.drop(['weaponsAcquired','longestKill','rankPoints','assists','roadKills','winPoints','vehicleDestroys','maxPlace','maxPlace','teamKills','DBNOs','revives','Id','groupId','matchId','matchType','winPlacePerc'],axis=1)\n",
    "X_train, X_test, y_train, y_test = train_test_split(X, y, random_state=0)\n",
    "forest.fit(X_train, y_train);\n",
    "print(forest.score(X_train, y_train))\n",
    "print(forest.score(X_test, y_test))\n",
    "print(cross_val_score(forest, X_train, y_train).mean())\n",
    "print(cross_val_score(forest, X_test, y_test).mean())"
   ]
  },
  {
   "cell_type": "markdown",
   "metadata": {},
   "source": [
    "#### boosts"
   ]
  },
  {
   "cell_type": "code",
   "execution_count": 16,
   "metadata": {},
   "outputs": [
    {
     "name": "stdout",
     "output_type": "stream",
     "text": [
      "0.9375039873058116\n",
      "0.9093499130357702\n",
      "0.9090396499008903\n",
      "0.9072364080219107\n"
     ]
    }
   ],
   "source": [
    "X = battle.drop(['boosts','weaponsAcquired','longestKill','rankPoints','assists','roadKills','winPoints','vehicleDestroys','maxPlace','maxPlace','teamKills','DBNOs','revives','Id','groupId','matchId','matchType','winPlacePerc'],axis=1)\n",
    "X_train, X_test, y_train, y_test = train_test_split(X, y, random_state=0)\n",
    "forest.fit(X_train, y_train);\n",
    "print(forest.score(X_train, y_train))\n",
    "print(forest.score(X_test, y_test))\n",
    "print(cross_val_score(forest, X_train, y_train).mean())\n",
    "print(cross_val_score(forest, X_test, y_test).mean())"
   ]
  },
  {
   "cell_type": "markdown",
   "metadata": {},
   "source": [
    "#### killPoints"
   ]
  },
  {
   "cell_type": "code",
   "execution_count": 17,
   "metadata": {},
   "outputs": [
    {
     "name": "stdout",
     "output_type": "stream",
     "text": [
      "0.9366162947725619\n",
      "0.9093236359472339\n",
      "0.9089951463235092\n",
      "0.907275765665213\n"
     ]
    }
   ],
   "source": [
    "X = battle.drop(['killPoints','boosts','weaponsAcquired','longestKill','rankPoints','assists','roadKills','winPoints','vehicleDestroys','maxPlace','maxPlace','teamKills','DBNOs','revives','Id','groupId','matchId','matchType','winPlacePerc'],axis=1)\n",
    "X_train, X_test, y_train, y_test = train_test_split(X, y, random_state=0)\n",
    "forest.fit(X_train, y_train);\n",
    "print(forest.score(X_train, y_train))\n",
    "print(forest.score(X_test, y_test))\n",
    "print(cross_val_score(forest, X_train, y_train).mean())\n",
    "print(cross_val_score(forest, X_test, y_test).mean())"
   ]
  },
  {
   "cell_type": "markdown",
   "metadata": {},
   "source": [
    "#### damageDealt"
   ]
  },
  {
   "cell_type": "code",
   "execution_count": 18,
   "metadata": {},
   "outputs": [
    {
     "name": "stdout",
     "output_type": "stream",
     "text": [
      "0.9346964497948391\n",
      "0.9093535154457684\n",
      "0.909091269356105\n",
      "0.9074701253865504\n"
     ]
    }
   ],
   "source": [
    "X = battle.drop(['damageDealt','killPoints','boosts','weaponsAcquired','longestKill','rankPoints','assists','roadKills','winPoints','vehicleDestroys','maxPlace','maxPlace','teamKills','DBNOs','revives','Id','groupId','matchId','matchType','winPlacePerc'],axis=1)\n",
    "X_train, X_test, y_train, y_test = train_test_split(X, y, random_state=0)\n",
    "forest.fit(X_train, y_train);\n",
    "print(forest.score(X_train, y_train))\n",
    "print(forest.score(X_test, y_test))\n",
    "print(cross_val_score(forest, X_train, y_train).mean())\n",
    "print(cross_val_score(forest, X_test, y_test).mean())"
   ]
  },
  {
   "cell_type": "markdown",
   "metadata": {},
   "source": [
    "#### headshotKills"
   ]
  },
  {
   "cell_type": "code",
   "execution_count": 19,
   "metadata": {},
   "outputs": [
    {
     "name": "stdout",
     "output_type": "stream",
     "text": [
      "0.9345455530298477\n",
      "0.9093771231933663\n",
      "0.9090954288412396\n",
      "0.9075032486542779\n"
     ]
    }
   ],
   "source": [
    "X = battle.drop(['headshotKills','damageDealt','killPoints','boosts','weaponsAcquired','longestKill','rankPoints','assists','roadKills','winPoints','vehicleDestroys','maxPlace','maxPlace','teamKills','DBNOs','revives','Id','groupId','matchId','matchType','winPlacePerc'],axis=1)\n",
    "X_train, X_test, y_train, y_test = train_test_split(X, y, random_state=0)\n",
    "forest.fit(X_train, y_train);\n",
    "print(forest.score(X_train, y_train))\n",
    "print(forest.score(X_test, y_test))\n",
    "print(cross_val_score(forest, X_train, y_train).mean())\n",
    "print(cross_val_score(forest, X_test, y_test).mean())"
   ]
  },
  {
   "cell_type": "markdown",
   "metadata": {},
   "source": [
    "#### heals"
   ]
  },
  {
   "cell_type": "code",
   "execution_count": 20,
   "metadata": {},
   "outputs": [
    {
     "name": "stdout",
     "output_type": "stream",
     "text": [
      "0.9334200495454119\n",
      "0.9086717854024027\n",
      "0.9084528823795001\n",
      "0.9069094932002747\n"
     ]
    }
   ],
   "source": [
    "X = battle.drop(['heals','headshotKills','damageDealt','killPoints','boosts','weaponsAcquired','longestKill','rankPoints','assists','roadKills','winPoints','vehicleDestroys','maxPlace','maxPlace','teamKills','DBNOs','revives','Id','groupId','matchId','matchType','winPlacePerc'],axis=1)\n",
    "X_train, X_test, y_train, y_test = train_test_split(X, y, random_state=0)\n",
    "forest.fit(X_train, y_train);\n",
    "print(forest.score(X_train, y_train))\n",
    "print(forest.score(X_test, y_test))\n",
    "print(cross_val_score(forest, X_train, y_train).mean())\n",
    "print(cross_val_score(forest, X_test, y_test).mean())"
   ]
  },
  {
   "cell_type": "markdown",
   "metadata": {},
   "source": [
    "#### killStreaks"
   ]
  },
  {
   "cell_type": "code",
   "execution_count": 21,
   "metadata": {},
   "outputs": [
    {
     "name": "stdout",
     "output_type": "stream",
     "text": [
      "0.9331986448055826\n",
      "0.9084705894424452\n",
      "0.908250388620281\n",
      "0.9068171507082875\n"
     ]
    }
   ],
   "source": [
    "X = battle.drop(['killStreaks','heals','headshotKills','damageDealt','killPoints','boosts','weaponsAcquired','longestKill','rankPoints','assists','roadKills','winPoints','vehicleDestroys','maxPlace','maxPlace','teamKills','DBNOs','revives','Id','groupId','matchId','matchType','winPlacePerc'],axis=1)\n",
    "X_train, X_test, y_train, y_test = train_test_split(X, y, random_state=0)\n",
    "forest.fit(X_train, y_train);\n",
    "print(forest.score(X_train, y_train))\n",
    "print(forest.score(X_test, y_test))\n",
    "print(cross_val_score(forest, X_train, y_train).mean())\n",
    "print(cross_val_score(forest, X_test, y_test).mean())"
   ]
  },
  {
   "cell_type": "markdown",
   "metadata": {},
   "source": [
    "#### swimDistance"
   ]
  },
  {
   "cell_type": "code",
   "execution_count": 22,
   "metadata": {},
   "outputs": [
    {
     "name": "stdout",
     "output_type": "stream",
     "text": [
      "0.9330060680399436\n",
      "0.9083799492945519\n",
      "0.9081686889725941\n",
      "0.9067582706626105\n"
     ]
    }
   ],
   "source": [
    "X = battle.drop(['swimDistance','killStreaks','heals','headshotKills','damageDealt','killPoints','boosts','weaponsAcquired','longestKill','rankPoints','assists','roadKills','winPoints','vehicleDestroys','maxPlace','maxPlace','teamKills','DBNOs','revives','Id','groupId','matchId','matchType','winPlacePerc'],axis=1)\n",
    "X_train, X_test, y_train, y_test = train_test_split(X, y, random_state=0)\n",
    "forest.fit(X_train, y_train);\n",
    "print(forest.score(X_train, y_train))\n",
    "print(forest.score(X_test, y_test))\n",
    "print(cross_val_score(forest, X_train, y_train).mean())\n",
    "print(cross_val_score(forest, X_test, y_test).mean())"
   ]
  },
  {
   "cell_type": "code",
   "execution_count": null,
   "metadata": {},
   "outputs": [],
   "source": []
  },
  {
   "cell_type": "code",
   "execution_count": 23,
   "metadata": {},
   "outputs": [
    {
     "data": {
      "text/plain": [
       "Index(['killPlace', 'kills', 'matchDuration', 'numGroups', 'rideDistance',\n",
       "       'walkDistance'],\n",
       "      dtype='object')"
      ]
     },
     "execution_count": 23,
     "metadata": {},
     "output_type": "execute_result"
    }
   ],
   "source": [
    "X.columns # 남은 컬럼"
   ]
  },
  {
   "cell_type": "code",
   "execution_count": null,
   "metadata": {},
   "outputs": [],
   "source": []
  },
  {
   "cell_type": "code",
   "execution_count": null,
   "metadata": {},
   "outputs": [],
   "source": []
  }
 ],
 "metadata": {
  "kernelspec": {
   "display_name": "Python 3",
   "language": "python",
   "name": "python3"
  },
  "language_info": {
   "codemirror_mode": {
    "name": "ipython",
    "version": 3
   },
   "file_extension": ".py",
   "mimetype": "text/x-python",
   "name": "python",
   "nbconvert_exporter": "python",
   "pygments_lexer": "ipython3",
   "version": "3.7.2"
  }
 },
 "nbformat": 4,
 "nbformat_minor": 2
}
